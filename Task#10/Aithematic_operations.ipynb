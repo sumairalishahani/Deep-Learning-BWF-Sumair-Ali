{
 "cells": [
  {
   "cell_type": "markdown",
   "metadata": {},
   "source": [
    "# Airthematic operation"
   ]
  },
  {
   "cell_type": "code",
   "execution_count": 1,
   "metadata": {},
   "outputs": [
    {
     "name": "stdout",
     "output_type": "stream",
     "text": [
      "[4 5 6 7]\n",
      "[4 5 6 7]\n"
     ]
    }
   ],
   "source": [
    "import numpy as np\n",
    "var1=np.array([1,2,3,4])\n",
    "varAdd=var1+3\n",
    "print(varAdd)\n",
    "# similarly\n",
    "varadd=np.add(var1,3)\n",
    "print (varadd)"
   ]
  },
  {
   "cell_type": "code",
   "execution_count": 2,
   "metadata": {},
   "outputs": [
    {
     "name": "stdout",
     "output_type": "stream",
     "text": [
      "[-2 -1 41]\n"
     ]
    }
   ],
   "source": [
    "var1=np.array([2,3,45])\n",
    "varsubtract=np.subtract(var1,4)\n",
    "print(varsubtract)"
   ]
  },
  {
   "cell_type": "code",
   "execution_count": 3,
   "metadata": {},
   "outputs": [
    {
     "name": "stdout",
     "output_type": "stream",
     "text": [
      "[  8  12 180]\n"
     ]
    }
   ],
   "source": [
    "var1=np.array([2,3,45])\n",
    "varmultiply=np.multiply(var1,4)\n",
    "print(varmultiply)"
   ]
  },
  {
   "cell_type": "code",
   "execution_count": 4,
   "metadata": {},
   "outputs": [
    {
     "name": "stdout",
     "output_type": "stream",
     "text": [
      "[  8  15 270]\n"
     ]
    }
   ],
   "source": [
    "var1=np.array([2,3,45])\n",
    "var2=np.array([4,5,6,])\n",
    "varmultiply=np.multiply(var1,var2)\n",
    "print(varmultiply)\n",
    "#similarly all function we can perform like mod,division,power,reciprocal etc"
   ]
  },
  {
   "cell_type": "markdown",
   "metadata": {},
   "source": [
    "# 2D Array"
   ]
  },
  {
   "cell_type": "code",
   "execution_count": 5,
   "metadata": {},
   "outputs": [
    {
     "name": "stdout",
     "output_type": "stream",
     "text": [
      "[[ 2  4  6  8]\n",
      " [ 2  4 68 10]]\n"
     ]
    }
   ],
   "source": [
    "var21=np.array([[1,2,3,4],[1,2,34,5]])\n",
    "var22=np.array([[1,2,3,4],[1,2,34,5]])\n",
    "\n",
    "\n",
    "varAdd=var21+var22\n",
    "print(varAdd)"
   ]
  },
  {
   "cell_type": "code",
   "execution_count": 6,
   "metadata": {},
   "outputs": [
    {
     "name": "stdout",
     "output_type": "stream",
     "text": [
      "[[   1    4    9   16]\n",
      " [   1    4 1156   25]]\n"
     ]
    }
   ],
   "source": [
    "var21=np.array([[1,2,3,4],[1,2,34,5]])\n",
    "var22=np.array([[1,2,3,4],[1,2,34,5]])\n",
    "\n",
    "\n",
    "varAdd=var21*var22\n",
    "print(varAdd)"
   ]
  },
  {
   "cell_type": "code",
   "execution_count": null,
   "metadata": {},
   "outputs": [],
   "source": []
  }
 ],
 "metadata": {
  "kernelspec": {
   "display_name": "Python 3",
   "language": "python",
   "name": "python3"
  },
  "language_info": {
   "codemirror_mode": {
    "name": "ipython",
    "version": 3
   },
   "file_extension": ".py",
   "mimetype": "text/x-python",
   "name": "python",
   "nbconvert_exporter": "python",
   "pygments_lexer": "ipython3",
   "version": "3.9.13"
  },
  "orig_nbformat": 4,
  "vscode": {
   "interpreter": {
    "hash": "69e5e8c1a956aa020d709b55be8861c607e172768ff455fb3c1ed998d3f24f7e"
   }
  }
 },
 "nbformat": 4,
 "nbformat_minor": 2
}
