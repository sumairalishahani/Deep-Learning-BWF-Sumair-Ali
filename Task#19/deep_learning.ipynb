{
 "cells": [
  {
   "cell_type": "markdown",
   "metadata": {},
   "source": [
    "# Deep Learning"
   ]
  },
  {
   "cell_type": "markdown",
   "metadata": {},
   "source": [
    "### Deep Learning is a machine Learning technique that teaches computer to do what comes naturally to humans"
   ]
  },
  {
   "cell_type": "markdown",
   "metadata": {},
   "source": [
    "## Reasons of moving towards Deep Learning"
   ]
  },
  {
   "attachments": {},
   "cell_type": "markdown",
   "metadata": {},
   "source": [
    "### there are three reason \n",
    "### 1. Image classification\n",
    "### 2. Natural Language processing \n",
    "### 3. Object detection"
   ]
  },
  {
   "attachments": {},
   "cell_type": "markdown",
   "metadata": {},
   "source": [
    "# Building Block of Deep Learning"
   ]
  },
  {
   "attachments": {},
   "cell_type": "markdown",
   "metadata": {},
   "source": [
    "## The building blocks of deep learning include:\n",
    "### 1.artificial neurons\n",
    "### 2.activation functions\n",
    "### 3.loss functions\n",
    "### 4.optimization algorithms\n",
    "### 5.layers.\n"
   ]
  },
  {
   "attachments": {},
   "cell_type": "markdown",
   "metadata": {},
   "source": [
    "## Artificial neurons\n",
    "### Artificial neurons are the basic units of computation in a neural network. They take input from other neurons, apply a transformation to it, and pass the output to the next layer of neurons.\n",
    "## Activation functions \n",
    "### Activation functions are used to introduce nonlinearity into the output of a neuron, allowing it to learn complex relationships in data.\n",
    "## Loss functions\n",
    "### Loss functions are used to measure the difference between the predicted output of a neural network and the actual output. The optimization algorithm is used to adjust the weights and biases of the neural network to minimize the loss function.\n",
    "## Layers \n",
    "### Layers are the building blocks of a neural network, consisting of multiple neurons arranged in a specific pattern. Different types of layers are used for different types of problems, such as convolutional layers for image recognition and recurrent layers for sequence data."
   ]
  },
  {
   "attachments": {},
   "cell_type": "markdown",
   "metadata": {},
   "source": [
    "# A Look on Neural Network:\n",
    "\n"
   ]
  },
  {
   "attachments": {},
   "cell_type": "markdown",
   "metadata": {},
   "source": [
    "### A neural network is a set of interconnected neurons arranged in multiple layers. The first layer of the network takes the input data, and subsequent layers extract increasingly abstract and high-level features from the input.Neural networks can be supervised or unsupervised, depending on whether they are trained on labeled or unlabeled data. In supervised learning, the network is trained on labeled data, where the input data is paired with the desired output. In unsupervised learning, the network is trained on unlabeled data, where the network tries to learn patterns and relationships in the data without any predefined labels."
   ]
  },
  {
   "attachments": {},
   "cell_type": "markdown",
   "metadata": {},
   "source": [
    "# Tensor Operations:\n",
    "\n"
   ]
  },
  {
   "attachments": {},
   "cell_type": "markdown",
   "metadata": {},
   "source": [
    "### Tensors are multi-dimensional arrays used to represent data in deep learning. Tensor operations are mathematical operations performed on tensors, which allow deep learning models to learn from data.\n",
    "\n",
    "Common tensor operations include addition, multiplication, transpose, dot product, and convolution. These operations are used to manipulate tensors and extract features from them, which can be used for tasks such as image recognition and natural language processing."
   ]
  },
  {
   "cell_type": "markdown",
   "metadata": {},
   "source": []
  }
 ],
 "metadata": {
  "language_info": {
   "name": "python"
  },
  "orig_nbformat": 4
 },
 "nbformat": 4,
 "nbformat_minor": 2
}
